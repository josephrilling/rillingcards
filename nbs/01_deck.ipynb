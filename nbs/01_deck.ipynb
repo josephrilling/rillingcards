{
 "cells": [
  {
   "cell_type": "code",
   "execution_count": null,
   "id": "cab1ee1a-95b1-4a47-b8d0-675aa098f7c2",
   "metadata": {},
   "outputs": [],
   "source": [
    "#| default_exp deck"
   ]
  },
  {
   "cell_type": "markdown",
   "id": "677e8a29-bd6a-4e89-9861-8530eb32f341",
   "metadata": {},
   "source": [
    "# deck \n",
    "> A deck of playing cards"
   ]
  },
  {
   "cell_type": "code",
   "execution_count": null,
   "id": "f99730da-2134-48ac-951f-10474cb20473",
   "metadata": {},
   "outputs": [],
   "source": [
    "#| export \n",
    "from rillingcards.card import *"
   ]
  },
  {
   "cell_type": "code",
   "execution_count": null,
   "id": "520bb81c-1bda-44bc-aacf-fac214857e35",
   "metadata": {},
   "outputs": [],
   "source": [
    "#| hide\n",
    "from nbdev.showdoc import *\n"
   ]
  },
  {
   "cell_type": "code",
   "execution_count": null,
   "id": "8cda2b51-2147-4687-9695-52d8758db316",
   "metadata": {},
   "outputs": [],
   "source": [
    "#| export \n",
    "class Deck:\n",
    "    \"A deck of 52 playing cards\"\n",
    "    def __init__(self):\n",
    "        self.cards = [Card(s,r) for s in range(4) for r in range(1,14)]\n",
    "    def __str__(self): return '; '.join(map(str,self.cards))\n",
    "    __repr__=__str__\n",
    "        "
   ]
  },
  {
   "cell_type": "code",
   "execution_count": null,
   "id": "d8d30e6a-244e-49f9-ac51-64068f0a7228",
   "metadata": {},
   "outputs": [
    {
     "data": {
      "text/plain": [
       "Aclubs; 2clubs; 3clubs; 4clubs; 5clubs; 6clubs; 7clubs; 8clubs; 9clubs; 10clubs; Jclubs; Qclubs; Kclubs; Adiamonds; 2diamonds; 3diamonds; 4diamonds; 5diamonds; 6diamonds; 7diamonds; 8diamonds; 9diamonds; 10diamonds; Jdiamonds; Qdiamonds; Kdiamonds; Ahearts; 2hearts; 3hearts; 4hearts; 5hearts; 6hearts; 7hearts; 8hearts; 9hearts; 10hearts; Jhearts; Qhearts; Khearts; Aspades; 2spades; 3spades; 4spades; 5spades; 6spades; 7spades; 8spades; 9spades; 10spades; Jspades; Qspades; Kspades"
      ]
     },
     "execution_count": null,
     "metadata": {},
     "output_type": "execute_result"
    }
   ],
   "source": [
    "Deck()"
   ]
  },
  {
   "cell_type": "code",
   "execution_count": null,
   "id": "618bd819-27b1-4371-b199-b39efc9129c7",
   "metadata": {},
   "outputs": [],
   "source": []
  }
 ],
 "metadata": {
  "kernelspec": {
   "display_name": "env_38",
   "language": "python",
   "name": "env_38"
  }
 },
 "nbformat": 4,
 "nbformat_minor": 5
}
